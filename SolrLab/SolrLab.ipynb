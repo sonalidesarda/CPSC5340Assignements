{
 "cells": [
  {
   "cell_type": "markdown",
   "metadata": {},
   "source": [
    "## Solr Practice Session\n",
    "\n",
    "1.  Installing SOLR\n",
    "1. Starting the service\n",
    "  1.  Standalone versus cloud\n",
    "1.  Basic administration\n",
    "1.  Example collections\n",
    "1.  The admin GUI\n",
    "1.  Defining a new collection\n",
    "  1.  Configuration files\n",
    "  1.  Defining the schema\n",
    "1.  Indexing documents\n",
    "1.  Queries and query responses\n",
    "\n"
   ]
  },
  {
   "cell_type": "markdown",
   "metadata": {},
   "source": [
    "### Installing SOLR\n",
    "\n",
    "https://lucene.apache.org/solr/guide/7_1/installing-solr.html\n",
    "\n",
    "1. Verify Java version\n",
    "1. Download SOLR archive\n",
    "1. Expand it to a location of your choice\n",
    "1. Remember that location, as you will be running commands out of its bin directory"
   ]
  },
  {
   "cell_type": "markdown",
   "metadata": {},
   "source": [
    "My install is at C:\\solr-8.0.0\n",
    "1.  Run bin\\solr start --help to see options\n",
    "1.  Run bin\\solr start -e techproducts\n",
    "1.  Run the browser and look at general admin and also the core\n"
   ]
  },
  {
   "cell_type": "markdown",
   "metadata": {},
   "source": [
    "### Starting and stopping the service\n",
    "\n",
    "1.  <pre>bin\\solr start [-c] [-e example]</pre>\n",
    "2. <pre>bin\\solr stop -all</pre>"
   ]
  },
  {
   "cell_type": "markdown",
   "metadata": {},
   "source": [
    "#### A Note on Cloud Mode vs. Standalone Mode\n",
    "\n",
    "  <img src=\"basic-cloud3.png\"/>"
   ]
  },
  {
   "cell_type": "markdown",
   "metadata": {},
   "source": [
    "#### Look at the *Techproducts* example\n",
    "1. Start the server having it load the example \"collection\"\n",
    "2. Use the admin GUI to see what constitutes a \"collection\"\n",
    "3. Operations from the GUI relevant to collections\n",
    "  1. Analysis -- see what analyzers are being run on indexing and on querying\n",
    "    1.  Notice synonyms on query\n",
    "  2. Query -- run queries and examine results\n",
    "  3. Shema -- more on this later"
   ]
  },
  {
   "cell_type": "markdown",
   "metadata": {},
   "source": [
    "### Constructing Our Own Collection for SUFaculty\n",
    "\n",
    "1. Understand our data and retrieval requirements\n",
    "2. Understand the SOLR schema syntax\n",
    "3. Build a schema.xml file"
   ]
  },
  {
   "cell_type": "markdown",
   "metadata": {},
   "source": [
    "#### Build the Core Using Admin Interface\n",
    "1.  Create a config directory for the new core\n",
    "2.  Edit the schema.xml file to our needs\n",
    "3.  Create the core using the Admin Interface\n",
    "4.  Add a few documents\n",
    "5.  Analyze a few terms\n",
    "6.  Do a few queries"
   ]
  },
  {
   "cell_type": "markdown",
   "metadata": {},
   "source": [
    "#### Remember our schema\n",
    "1.  Look at a data file\n",
    "1.  Fields:  name, email, phone, interests, joined\n",
    "1.  Make some decisions\n",
    "  1. *name* -- is it truly a text field?\n",
    "  1. *email* -- special structure\n",
    "  1. *phone* -- special structure\n",
    "  1. *interests* -- really a text field!\n",
    "  1. *joined* -- year / integer\n"
   ]
  },
  {
   "cell_type": "markdown",
   "metadata": {},
   "source": [
    "------------------------------------------------------\n",
    "------------------------------------------------------"
   ]
  },
  {
   "cell_type": "markdown",
   "metadata": {},
   "source": [
    "### Moving out of the Admin GUI\n",
    "\n",
    "https://lucene.apache.org/solr/guide/6_6/introduction-to-client-apis.html#introduction-to-client-apis\n",
    "\n",
    ">Clients use Solr’s five fundamental operations to work with Solr. The operations are query, index, delete, commit, and optimize.\n",
    "\n",
    "Things we want to do\n",
    "1.  Start and stop the server -- command line / OS\n",
    "1.  Create / delete a collection -- either command line or admin interfaces\n",
    "1.  Index documents -- API / wrapper\n",
    "1.  Query -- API / wrapper\n"
   ]
  },
  {
   "cell_type": "markdown",
   "metadata": {},
   "source": [
    "#### SOLR Command Line Interface\n",
    "<pre>\n",
    "(base) C:\\solr-8.0.0>bin\\solr --help\n",
    "\n",
    "Usage: solr COMMAND OPTIONS\n",
    "       where COMMAND is one of: \n",
    "       start, stop, restart, healthcheck, create, create_core, create_collection, \n",
    "       delete, version, zk, auth, assert, config, autoscaling\n",
    "</pre>\n",
    "\n",
    "We want start, stop, create_collection, and delete."
   ]
  },
  {
   "cell_type": "code",
   "execution_count": 1,
   "metadata": {},
   "outputs": [],
   "source": [
    "# For \"shell commands\" in Windows.  Replace it if you're not Windows\n",
    "import subprocess\n",
    "\n",
    "SOLR_EXECUTABLE = 'C:\\\\solr-8.0.0\\\\bin\\\\solr.cmd'\n",
    "\n",
    "def solr_command(*args):\n",
    "    return subprocess.check_output([SOLR_EXECUTABLE] + list(args))\n",
    "                                   "
   ]
  },
  {
   "cell_type": "markdown",
   "metadata": {},
   "source": [
    "Create a collection -- it would probably be preferable to do this with an API, but the core admin API does not work in stand-alone mode."
   ]
  },
  {
   "cell_type": "code",
   "execution_count": 2,
   "metadata": {},
   "outputs": [
    {
     "data": {
      "text/plain": [
       "b\"\\nCreated new core 'sufaculty'\\r\\n\""
      ]
     },
     "execution_count": 2,
     "metadata": {},
     "output_type": "execute_result"
    }
   ],
   "source": [
    "config_loc = 'C:\\\\Users\\\\hanks\\\\Documents\\\\GitHub\\\\cpsc5340-w21\\\\solrLab\\\\sufaculty\\\\conf'\n",
    "solr_command('create_core', '-c', 'sufaculty', '-d', config_loc)"
   ]
  },
  {
   "cell_type": "markdown",
   "metadata": {},
   "source": [
    "#### Pysolr interface\n",
    "https://github.com/django-haystack/pysolr"
   ]
  },
  {
   "cell_type": "code",
   "execution_count": 3,
   "metadata": {},
   "outputs": [],
   "source": [
    "import pysolr\n",
    "import json\n",
    "solr = pysolr.Solr('http://localhost:8983/solr/sufaculty')"
   ]
  },
  {
   "cell_type": "code",
   "execution_count": 4,
   "metadata": {},
   "outputs": [
    {
     "name": "stdout",
     "output_type": "stream",
     "text": [
      "..\\scrapeLab\\json\\dingle-adair.json\n",
      "..\\scrapeLab\\json\\hanks-steven.json\n",
      "..\\scrapeLab\\json\\khadivi-pejman.json\n",
      "..\\scrapeLab\\json\\koenig-michael.json\n",
      "..\\scrapeLab\\json\\kong-hidy.json\n",
      "..\\scrapeLab\\json\\larson-eric.json\n",
      "..\\scrapeLab\\json\\leblanc-richard.json\n",
      "..\\scrapeLab\\json\\li-lin.json\n",
      "..\\scrapeLab\\json\\lundeen-kevin.json\n",
      "..\\scrapeLab\\json\\mckee-michael.json\n",
      "..\\scrapeLab\\json\\mishra-aditya.json\n",
      "..\\scrapeLab\\json\\obare-james.json\n",
      "..\\scrapeLab\\json\\oh-sheila.json\n",
      "..\\scrapeLab\\json\\reeder-susan.json\n",
      "..\\scrapeLab\\json\\wong-jason.json\n",
      "..\\scrapeLab\\json\\zhu-yingwu-.json\n"
     ]
    },
    {
     "data": {
      "text/plain": [
       "'<?xml version=\"1.0\" encoding=\"UTF-8\"?>\\n<response>\\n\\n<lst name=\"responseHeader\">\\n  <int name=\"status\">0</int>\\n  <int name=\"QTime\">149</int>\\n</lst>\\n</response>\\n'"
      ]
     },
     "execution_count": 4,
     "metadata": {},
     "output_type": "execute_result"
    }
   ],
   "source": [
    "import os \n",
    "docs = []\n",
    "DIR = '..\\\\scrapeLab\\\\json\\\\'\n",
    "for filename in os.listdir(DIR):\n",
    "    with open(DIR + filename) as f:\n",
    "        print(f\"{DIR + filename}\")\n",
    "        docs.append(json.loads(f.read()))\n",
    "solr.add(docs, commit=True)"
   ]
  },
  {
   "cell_type": "markdown",
   "metadata": {},
   "source": [
    "#### Queries\n",
    "\n",
    "- All documents using both requests and pysolr\n",
    "- Exact match on handle\n",
    "- Keyword match on body/name\n",
    "- Range match on tweet count\n",
    "\n"
   ]
  },
  {
   "cell_type": "code",
   "execution_count": 5,
   "metadata": {},
   "outputs": [
    {
     "data": {
      "text/plain": [
       "[b'{\\n  \"responseHeader\":{\\n    \"status\":0,\\n    \"QTime\":21,\\n    \"params\":{\\n      \"q\":\"*.*\"}},\\n  \"response\":{\"numFound\":16,\"start\":0,\"',\n",
       " b'docs\":[\\n      {\\n        \"name\":\"Adair Dingle, Ph.D.\",\\n        \"email\":\"dingle@seattleu.edu\",\\n        \"phone\":\"(206) 296-5516\",\\n ',\n",
       " b'       \"bio\":\"Dr. Dingle\\'s Personal Webpage\\\\n\\xc2\\xa0\\\\nTeaching Interests:\\\\n\\\\nData Structures\\\\nFoundations of Computer Science\\\\nObject',\n",
       " b'-Oriented Software Development\\\\nLanguages and Computation\\\\nDesign Patterns and Refactoring\\\\n\\\\n\\xc2\\xa0\\\\nResearch Interests:\\\\nReclaimin',\n",
       " b'g Garbage and Education: Java Memory Leaks, Tracking the Design of Objects: Encapsulation Through Polymorphism, The Maintainabil',\n",
       " b'ity Gap, Assessing the Ripple Effect of Language Choice in CS1, Improving C++ Performance Using Temporaries, The Object-Ownershi',\n",
       " b'p Model: A Case Study for Inheritance and Operator Overloading\",\\n        \"joined\":1996,\\n        \"_version_\":1689618743003447296,',\n",
       " b'\\n        \"handle\":\"dingle-adair\"},\\n      {\\n        \"name\":\"Steven Hanks, Ph.D.\",\\n        \"email\":\"hankssteven@seattleu.edu\",\\n   ',\n",
       " b'     \"bio\":\"\\xc2\\xa0\\\\nTeaching interests:\\\\n\\\\nData science\\\\nArtificial intelligence\\\\nSoftware design\\\\nText and natural language process',\n",
       " b'ing, and search\\\\n\\\\nResearch interests:\\\\n\\\\nApplication of data-science methodologiesConnecting machine learning and AI \\xe2\\x80\\x93 how ML',\n",
       " b' algorithms can learn representations useful for \\xe2\\x80\\x9cgeneral commonsense intelligence\\xe2\\x80\\x9d (whatever that means)\\xc2\\xa0\\\\n\",\\n        \"joi',\n",
       " b'ned\":2008,\\n        \"_version_\":1689618743007641600,\\n        \"handle\":\"hanks-steven\"},\\n      {\\n        \"name\":\"Pejman Khadivi, Ph',\n",
       " b'.D.\",\\n        \"email\":\"khadivip@seattleu.edu\",\\n        \"phone\":\"(206) 296-2567\",\\n        \"bio\":\"Dr. Khadivi\\'s Personal Web Page\\\\',\n",
       " b'n\\xc2\\xa0\\\\nTeaching Interests:\\\\n\\\\nDesign & Analysis of Algorithm\\\\nComp Systems Principles\\\\nArtificial Intelligence\\\\n\\\\n\\xc2\\xa0\\\\nResearch Int',\n",
       " b'erests:\\\\nMy primary research interests are in the field of artificial intelligence, machine learning, and data analytics using l',\n",
       " b'arge scale datasets, with emphasis on time series analytics, which is considered as a critical component in various domains incl',\n",
       " b'uding forecasting, cyber-physical systems, anomaly detection, and reliable system design.\\\\nIn cyber-physical systems, beside for',\n",
       " b'ecasting and prediction tasks, machine learning techniques can be used in other applications such as anomaly detection, smart co',\n",
       " b'ntroller design, and surveillance systems. Furthermore, one of the important issues with machine learning and time series analyt',\n",
       " b'ics is the existence of noise in datasets. Machine learning algorithms are sensitive to noise and hence, denosing is a crucial s',\n",
       " b'tep to perform before using any machine learning algorithm. Current research problems that I am working on them are as follows:\\\\',\n",
       " b'n\\\\nReal time techniques for time series denoising using information theory and deep learning\\\\nAnomaly detection in cyber-physica',\n",
       " b'l systems in order to perform fault detection and fault location with the aim of reliability improvement\\\\nUsing open source data',\n",
       " b'sets for forecasting applications in health science and tourism industry\\\\nWikipedia usage behavior modeling\\\\n\\\\n\\xc2\\xa0\\\\n\\xc2\\xa0\",\\n        ',\n",
       " b'\"joined\":1999,\\n        \"_version_\":1689618743010787328,\\n        \"handle\":\"khadivi-pejman\"},\\n      {\\n        \"name\":\"Michael Koen',\n",
       " b'ig\",\\n        \"email\":\"koenigm@seattleu.edu\",\\n        \"phone\":\"(206) 296-2568\",\\n        \"bio\":\"\\xc2\\xa0\\\\nTeaching Interests:\\\\n\\\\nFundame',\n",
       " b'ntals Of Software Engineering\\\\nSeminar\\\\nMobile App Development\\\\n\",\\n        \"joined\":2005,\\n        \"_version_\":168961874301183590',\n",
       " b'4,\\n        \"handle\":\"koenig-michael\"},\\n      {\\n        \"name\":\"Hidy Kong, Ph.D.\",\\n        \"email\":\"hkong@seattleu.edu\",\\n        ',\n",
       " b'\"phone\":\"(206) 296-5562\",\\n        \"bio\":\"Dr. Kong\\'s Personal Webpage\\\\n\\xc2\\xa0\\\\nTeaching Interests:\\\\n\\\\nData Structures\\\\nVisual Analyti',\n",
       " b'cs\\\\n\\\\nResearch Interests:\\\\nMy research interests are in Human Computer Interaction (HCI) and visualization. My current projects ',\n",
       " b'focus on people\\xe2\\x80\\x99s perceptions and usage of data visualization in various domains including healthcare and the media.\\\\nRecently',\n",
       " b', I have studied credibility and trust in visualization online, and examined the role of textual components in information recal',\n",
       " b'l and trust. I also built and evaluated visualization webtools to help clinicians and parents of young children communicate more',\n",
       " b' efficiently.\",\\n        \"joined\":1998,\\n        \"_version_\":1689618743013933056,\\n        \"handle\":\"kong-hidy\"},\\n      {\\n        \"',\n",
       " b'name\":\"Eric Larson, Ph.D.\",\\n        \"email\":\"elarson@seattleu.edu\",\\n        \"phone\":\"(206) 296-5513\",\\n        \"bio\":\"Dr. Larson\\'',\n",
       " b's Personal Webpage\\\\n\\xc2\\xa0\\\\nTeaching Interests:\\\\n\\\\nFoundations of Computer Science\\\\nLanguages and Computation\\\\nComputing Systems\\\\n\\\\n',\n",
       " b'\\xc2\\xa0\\\\nResearch Interests:\\\\nSoftware bug detection and software testing. My current project focuses on finding bugs within regular ',\n",
       " b'expressions using a combination of test generation and static bug detection techniques.\",\\n        \"joined\":2008,\\n        \"_versi',\n",
       " b'on_\":1689618743014981632,\\n        \"handle\":\"larson-eric\"},\\n      {\\n        \"name\":\"Richard Leblanc, Ph.D.\",\\n        \"email\":\"leb',\n",
       " b'lanc@seattleu.edu\",\\n        \"phone\":\"(206) 296-5511\",\\n        \"bio\":\"\\xc2\\xa0\\\\nTeaching Interests:\\\\n\\\\nLanguages and Computation\\\\nTech ',\n",
       " b'Comm & Proj Management\\\\nEthics & Prof Iss in Computing\\\\n\\\\n\\xc2\\xa0\\\\nRecent Publications:\\\\n\\\\nCrafting the Future of Software Engineerin',\n",
       " b'g Education in CC2020: A WorkshopRJ LeBlanc, NR Mead, J ImpagliazzoSoftware Engineering Education and Training (CSEE&T), 2017 IE',\n",
       " b'EE 30th \\xe2\\x80\\xa6 2017\\\\nIEEE 27th Conference on Software Engineering Education and Training (CSEE&T)A Bollin, E Hochm\\xc3\\xbcller, RT Mitter',\n",
       " b'meir, T Cowling, R LeBlanc 2014\\\\nACM/IEEE-CS computer science curricula 2013: implementing the final reportM Sahami, S Roach, E ',\n",
       " b'Cuadros-Vargas, EK Hawthorne, A Kumar, ...Proceedings of the 45th ACM technical symposium on Computer science ... 2014\\\\nSpecial ',\n",
       " b'session: The CS2013 Computer Science curriculum guidelines projectS Roach, M Sahami, R LeBlanc, R SekerFrontiers in Education Co',\n",
       " b'nference, 2013 IEEE, 1311-1313 1 2013\\\\nSoftware engineering in CS 2013R LeBlancSoftware Engineering Education and Training (CSEE',\n",
       " b'&T), 2013 IEEE 26th \\xe2\\x80\\xa6 2013\\\\nAcm/ieee-cs computer science curriculum 2013: Reviewing the ironman reportM Sahami, S Roach, E Cua',\n",
       " b'dros-Vargas, R LeBlancProceeding of the 44th ACM technical symposium on Computer science education \\xe2\\x80\\xa6 2013\\\\nExploring the Compu',\n",
       " b'ter Science 2013 Curriculum GuidelinesR LeBlanc, M BarkerSoftware Engineering Education and Training (CSEE&T), 2012 IEEE 25th \\xe2\\x80',\n",
       " b'\\xa6 2012\\\\n\",\\n        \"joined\":2003,\\n        \"_version_\":1689618743016030208,\\n        \"handle\":\"leblanc-richard\"},\\n      {\\n        ',\n",
       " b'\"name\":\"Lin Li, Ph.D.\",\\n        \"email\":\"lil@seattleu.edu\",\\n        \"phone\":\"(206) 296-2112\",\\n        \"bio\":\"Dr. Li\\'s Personal W',\n",
       " b'ebpage\\\\n\\xc2\\xa0\\\\nTeaching Interests:\\\\n\\\\nProgramming and Data Types\\\\nFundamentals of Databases\\\\nDatabase Systems\\\\nData Science\\\\n\\\\n\\xc2\\xa0\\\\n',\n",
       " b'Research Interests:\\\\nMy research focuses on medical imaging, medical image analysis using machine learning, and computer-aided d',\n",
       " b'iagnosis. I have been primarily working on three research projects since joining SU:\\\\n\\\\nNon-invasive skin cancer detection using',\n",
       " b' computer-aided spectroscopic systems;\\\\nPrediction of blood glucose level and detection of hyperglycemia/hypoglycemia using opti',\n",
       " b'mization and machine learning techniques;\\\\nDetection of diabetic retinopathy of diabetic patients using image processing and mac',\n",
       " b'hine learning techniques.\\\\n\\\\nIn the meanwhile, I have been also working on some research projects related to machine learning - ',\n",
       " b'for example, how to adjust weight of single classifier in an ensemble of classifiers for classification problems and regression ',\n",
       " b'problems.\\xc2\\xa0\\\\n\\xc2\\xa0\",\\n        \"joined\":2007,\\n        \"_version_\":1689618743018127360,\\n        \"handle\":\"li-lin\"},\\n      {\\n        \"n',\n",
       " b'ame\":\"Kevin Lundeen\\\\n\",\\n        \"email\":\"lundeenk@seattleu.edu\",\\n        \"phone\":\"(206) 296-2333\",\\n        \"bio\":\"\\xc2\\xa0\\\\nTeaching I',\n",
       " b'nterests:\\\\n\\\\nData-Driven Programming\\\\nProgramming & Prob Solving\\\\nData Structures\\\\nProgramming Boot Camp\\\\nData Structures And Al',\n",
       " b'gorithms\\\\nPhysical Databases\\\\n\\\\n\\xc2\\xa0\\\\nResearch Interests:\\\\nCS Education, Databases, Computer Languages, Distributed Computing, Fin',\n",
       " b'ance and Medical Applications.\",\\n        \"joined\":1997,\\n        \"_version_\":1689618743020224512,\\n        \"handle\":\"lundeen-kevin',\n",
       " b'\"},\\n      {\\n        \"name\":\"Michael McKee\",\\n        \"email\":\"mckeem@seattleu.edu\",\\n        \"bio\":\"\\xc2\\xa0\\\\nTeaching Interests:\\\\n\\\\nPro',\n",
       " b'gramming & Problem Solving\\\\nData Structures And Algorithms\\\\nDatabases\\\\nSoftware Economics\\\\nSoftware Testing\\\\nData Analytics\\\\n\\\\nR',\n",
       " b'esearch Interests:\\\\n\\\\nCS Education, Databases, Data Warehousing, Computer Languages, Economics, STEM.\\\\n\",\\n        \"joined\":2012,',\n",
       " b'\\n        \"_version_\":1689618743021273088,\\n        \"handle\":\"mckee-michael\"}]\\n  }}\\n']"
      ]
     },
     "execution_count": 5,
     "metadata": {},
     "output_type": "execute_result"
    }
   ],
   "source": [
    "import requests\n",
    "# http://localhost:8983/solr/tweeters/select?df=location&q=washington\n",
    "list(requests.get(\"http://localhost:8983/solr/sufaculty/select?q=*.*\"))"
   ]
  },
  {
   "cell_type": "code",
   "execution_count": 6,
   "metadata": {},
   "outputs": [
    {
     "data": {
      "text/plain": [
       "[{'name': 'Adair Dingle, Ph.D.',\n",
       "  'email': 'dingle@seattleu.edu',\n",
       "  'phone': '(206) 296-5516',\n",
       "  'bio': \"Dr. Dingle's Personal Webpage\\n\\xa0\\nTeaching Interests:\\n\\nData Structures\\nFoundations of Computer Science\\nObject-Oriented Software Development\\nLanguages and Computation\\nDesign Patterns and Refactoring\\n\\n\\xa0\\nResearch Interests:\\nReclaiming Garbage and Education: Java Memory Leaks, Tracking the Design of Objects: Encapsulation Through Polymorphism, The Maintainability Gap, Assessing the Ripple Effect of Language Choice in CS1, Improving C++ Performance Using Temporaries, The Object-Ownership Model: A Case Study for Inheritance and Operator Overloading\",\n",
       "  'joined': 1996,\n",
       "  '_version_': 1689618743003447296,\n",
       "  'handle': 'dingle-adair'},\n",
       " {'name': 'Steven Hanks, Ph.D.',\n",
       "  'email': 'hankssteven@seattleu.edu',\n",
       "  'bio': '\\xa0\\nTeaching interests:\\n\\nData science\\nArtificial intelligence\\nSoftware design\\nText and natural language processing, and search\\n\\nResearch interests:\\n\\nApplication of data-science methodologiesConnecting machine learning and AI – how ML algorithms can learn representations useful for “general commonsense intelligence” (whatever that means)\\xa0\\n',\n",
       "  'joined': 2008,\n",
       "  '_version_': 1689618743007641600,\n",
       "  'handle': 'hanks-steven'},\n",
       " {'name': 'Pejman Khadivi, Ph.D.',\n",
       "  'email': 'khadivip@seattleu.edu',\n",
       "  'phone': '(206) 296-2567',\n",
       "  'bio': \"Dr. Khadivi's Personal Web Page\\n\\xa0\\nTeaching Interests:\\n\\nDesign & Analysis of Algorithm\\nComp Systems Principles\\nArtificial Intelligence\\n\\n\\xa0\\nResearch Interests:\\nMy primary research interests are in the field of artificial intelligence, machine learning, and data analytics using large scale datasets, with emphasis on time series analytics, which is considered as a critical component in various domains including forecasting, cyber-physical systems, anomaly detection, and reliable system design.\\nIn cyber-physical systems, beside forecasting and prediction tasks, machine learning techniques can be used in other applications such as anomaly detection, smart controller design, and surveillance systems. Furthermore, one of the important issues with machine learning and time series analytics is the existence of noise in datasets. Machine learning algorithms are sensitive to noise and hence, denosing is a crucial step to perform before using any machine learning algorithm. Current research problems that I am working on them are as follows:\\n\\nReal time techniques for time series denoising using information theory and deep learning\\nAnomaly detection in cyber-physical systems in order to perform fault detection and fault location with the aim of reliability improvement\\nUsing open source datasets for forecasting applications in health science and tourism industry\\nWikipedia usage behavior modeling\\n\\n\\xa0\\n\\xa0\",\n",
       "  'joined': 1999,\n",
       "  '_version_': 1689618743010787328,\n",
       "  'handle': 'khadivi-pejman'},\n",
       " {'name': 'Michael Koenig',\n",
       "  'email': 'koenigm@seattleu.edu',\n",
       "  'phone': '(206) 296-2568',\n",
       "  'bio': '\\xa0\\nTeaching Interests:\\n\\nFundamentals Of Software Engineering\\nSeminar\\nMobile App Development\\n',\n",
       "  'joined': 2005,\n",
       "  '_version_': 1689618743011835904,\n",
       "  'handle': 'koenig-michael'},\n",
       " {'name': 'Hidy Kong, Ph.D.',\n",
       "  'email': 'hkong@seattleu.edu',\n",
       "  'phone': '(206) 296-5562',\n",
       "  'bio': \"Dr. Kong's Personal Webpage\\n\\xa0\\nTeaching Interests:\\n\\nData Structures\\nVisual Analytics\\n\\nResearch Interests:\\nMy research interests are in Human Computer Interaction (HCI) and visualization. My current projects focus on people’s perceptions and usage of data visualization in various domains including healthcare and the media.\\nRecently, I have studied credibility and trust in visualization online, and examined the role of textual components in information recall and trust. I also built and evaluated visualization webtools to help clinicians and parents of young children communicate more efficiently.\",\n",
       "  'joined': 1998,\n",
       "  '_version_': 1689618743013933056,\n",
       "  'handle': 'kong-hidy'},\n",
       " {'name': 'Eric Larson, Ph.D.',\n",
       "  'email': 'elarson@seattleu.edu',\n",
       "  'phone': '(206) 296-5513',\n",
       "  'bio': \"Dr. Larson's Personal Webpage\\n\\xa0\\nTeaching Interests:\\n\\nFoundations of Computer Science\\nLanguages and Computation\\nComputing Systems\\n\\n\\xa0\\nResearch Interests:\\nSoftware bug detection and software testing. My current project focuses on finding bugs within regular expressions using a combination of test generation and static bug detection techniques.\",\n",
       "  'joined': 2008,\n",
       "  '_version_': 1689618743014981632,\n",
       "  'handle': 'larson-eric'},\n",
       " {'name': 'Richard Leblanc, Ph.D.',\n",
       "  'email': 'leblanc@seattleu.edu',\n",
       "  'phone': '(206) 296-5511',\n",
       "  'bio': '\\xa0\\nTeaching Interests:\\n\\nLanguages and Computation\\nTech Comm & Proj Management\\nEthics & Prof Iss in Computing\\n\\n\\xa0\\nRecent Publications:\\n\\nCrafting the Future of Software Engineering Education in CC2020: A WorkshopRJ LeBlanc, NR Mead, J ImpagliazzoSoftware Engineering Education and Training (CSEE&T), 2017 IEEE 30th … 2017\\nIEEE 27th Conference on Software Engineering Education and Training (CSEE&T)A Bollin, E Hochmüller, RT Mittermeir, T Cowling, R LeBlanc 2014\\nACM/IEEE-CS computer science curricula 2013: implementing the final reportM Sahami, S Roach, E Cuadros-Vargas, EK Hawthorne, A Kumar, ...Proceedings of the 45th ACM technical symposium on Computer science ... 2014\\nSpecial session: The CS2013 Computer Science curriculum guidelines projectS Roach, M Sahami, R LeBlanc, R SekerFrontiers in Education Conference, 2013 IEEE, 1311-1313 1 2013\\nSoftware engineering in CS 2013R LeBlancSoftware Engineering Education and Training (CSEE&T), 2013 IEEE 26th … 2013\\nAcm/ieee-cs computer science curriculum 2013: Reviewing the ironman reportM Sahami, S Roach, E Cuadros-Vargas, R LeBlancProceeding of the 44th ACM technical symposium on Computer science education … 2013\\nExploring the Computer Science 2013 Curriculum GuidelinesR LeBlanc, M BarkerSoftware Engineering Education and Training (CSEE&T), 2012 IEEE 25th … 2012\\n',\n",
       "  'joined': 2003,\n",
       "  '_version_': 1689618743016030208,\n",
       "  'handle': 'leblanc-richard'},\n",
       " {'name': 'Lin Li, Ph.D.',\n",
       "  'email': 'lil@seattleu.edu',\n",
       "  'phone': '(206) 296-2112',\n",
       "  'bio': \"Dr. Li's Personal Webpage\\n\\xa0\\nTeaching Interests:\\n\\nProgramming and Data Types\\nFundamentals of Databases\\nDatabase Systems\\nData Science\\n\\n\\xa0\\nResearch Interests:\\nMy research focuses on medical imaging, medical image analysis using machine learning, and computer-aided diagnosis. I have been primarily working on three research projects since joining SU:\\n\\nNon-invasive skin cancer detection using computer-aided spectroscopic systems;\\nPrediction of blood glucose level and detection of hyperglycemia/hypoglycemia using optimization and machine learning techniques;\\nDetection of diabetic retinopathy of diabetic patients using image processing and machine learning techniques.\\n\\nIn the meanwhile, I have been also working on some research projects related to machine learning - for example, how to adjust weight of single classifier in an ensemble of classifiers for classification problems and regression problems.\\xa0\\n\\xa0\",\n",
       "  'joined': 2007,\n",
       "  '_version_': 1689618743018127360,\n",
       "  'handle': 'li-lin'},\n",
       " {'name': 'Kevin Lundeen\\n',\n",
       "  'email': 'lundeenk@seattleu.edu',\n",
       "  'phone': '(206) 296-2333',\n",
       "  'bio': '\\xa0\\nTeaching Interests:\\n\\nData-Driven Programming\\nProgramming & Prob Solving\\nData Structures\\nProgramming Boot Camp\\nData Structures And Algorithms\\nPhysical Databases\\n\\n\\xa0\\nResearch Interests:\\nCS Education, Databases, Computer Languages, Distributed Computing, Finance and Medical Applications.',\n",
       "  'joined': 1997,\n",
       "  '_version_': 1689618743020224512,\n",
       "  'handle': 'lundeen-kevin'},\n",
       " {'name': 'Michael McKee',\n",
       "  'email': 'mckeem@seattleu.edu',\n",
       "  'bio': '\\xa0\\nTeaching Interests:\\n\\nProgramming & Problem Solving\\nData Structures And Algorithms\\nDatabases\\nSoftware Economics\\nSoftware Testing\\nData Analytics\\n\\nResearch Interests:\\n\\nCS Education, Databases, Data Warehousing, Computer Languages, Economics, STEM.\\n',\n",
       "  'joined': 2012,\n",
       "  '_version_': 1689618743021273088,\n",
       "  'handle': 'mckee-michael'}]"
      ]
     },
     "execution_count": 6,
     "metadata": {},
     "output_type": "execute_result"
    }
   ],
   "source": [
    "list(solr.search(\"*\"))"
   ]
  },
  {
   "cell_type": "code",
   "execution_count": 7,
   "metadata": {},
   "outputs": [
    {
     "data": {
      "text/plain": [
       "[{'name': 'Steven Hanks, Ph.D.',\n",
       "  'email': 'hankssteven@seattleu.edu',\n",
       "  'bio': '\\xa0\\nTeaching interests:\\n\\nData science\\nArtificial intelligence\\nSoftware design\\nText and natural language processing, and search\\n\\nResearch interests:\\n\\nApplication of data-science methodologiesConnecting machine learning and AI – how ML algorithms can learn representations useful for “general commonsense intelligence” (whatever that means)\\xa0\\n',\n",
       "  'joined': 2008,\n",
       "  '_version_': 1689618743007641600,\n",
       "  'handle': 'hanks-steven'},\n",
       " {'name': 'Pejman Khadivi, Ph.D.',\n",
       "  'email': 'khadivip@seattleu.edu',\n",
       "  'phone': '(206) 296-2567',\n",
       "  'bio': \"Dr. Khadivi's Personal Web Page\\n\\xa0\\nTeaching Interests:\\n\\nDesign & Analysis of Algorithm\\nComp Systems Principles\\nArtificial Intelligence\\n\\n\\xa0\\nResearch Interests:\\nMy primary research interests are in the field of artificial intelligence, machine learning, and data analytics using large scale datasets, with emphasis on time series analytics, which is considered as a critical component in various domains including forecasting, cyber-physical systems, anomaly detection, and reliable system design.\\nIn cyber-physical systems, beside forecasting and prediction tasks, machine learning techniques can be used in other applications such as anomaly detection, smart controller design, and surveillance systems. Furthermore, one of the important issues with machine learning and time series analytics is the existence of noise in datasets. Machine learning algorithms are sensitive to noise and hence, denosing is a crucial step to perform before using any machine learning algorithm. Current research problems that I am working on them are as follows:\\n\\nReal time techniques for time series denoising using information theory and deep learning\\nAnomaly detection in cyber-physical systems in order to perform fault detection and fault location with the aim of reliability improvement\\nUsing open source datasets for forecasting applications in health science and tourism industry\\nWikipedia usage behavior modeling\\n\\n\\xa0\\n\\xa0\",\n",
       "  'joined': 1999,\n",
       "  '_version_': 1689618743010787328,\n",
       "  'handle': 'khadivi-pejman'}]"
      ]
     },
     "execution_count": 7,
     "metadata": {},
     "output_type": "execute_result"
    }
   ],
   "source": [
    "list(solr.search('intelligence'))"
   ]
  },
  {
   "cell_type": "code",
   "execution_count": 8,
   "metadata": {},
   "outputs": [
    {
     "data": {
      "text/plain": [
       "[{'name': 'Michael McKee',\n",
       "  'email': 'mckeem@seattleu.edu',\n",
       "  'bio': '\\xa0\\nTeaching Interests:\\n\\nProgramming & Problem Solving\\nData Structures And Algorithms\\nDatabases\\nSoftware Economics\\nSoftware Testing\\nData Analytics\\n\\nResearch Interests:\\n\\nCS Education, Databases, Data Warehousing, Computer Languages, Economics, STEM.\\n',\n",
       "  'joined': 2012,\n",
       "  '_version_': 1689618743021273088,\n",
       "  'handle': 'mckee-michael'},\n",
       " {'name': 'James Obare',\n",
       "  'email': 'obarej@seattleu.edu',\n",
       "  'phone': '(206) 296-2837',\n",
       "  'bio': '\\xa0\\nTeaching Interests:\\n\\nIntro to Computer Science\\nIntro Computers & Applications\\nComp Systems Principles\\nCyber Security\\nComputer Organization and Architecture\\n',\n",
       "  'joined': 2013,\n",
       "  '_version_': 1689618743023370240,\n",
       "  'handle': 'obare-james'},\n",
       " {'name': 'Jason Wong',\n",
       "  'email': 'wongja@seattleu.edu',\n",
       "  'phone': '(206) 296-5949',\n",
       "  'bio': '\\xa0\\nTeaching Interests:\\n\\nFundamentals of Databases\\nSoftware Engineering & Project Development\\nSecurity in Computing\\n\\n\\xa0\\nCurrent Interests:\\nI am responsible for coordinating the senior and graduate computer science capstone projects. In this role I work with industry and community organizations to scope software projects that students must complete to fulfill their academic requirements. I also serve as a faculty advisor to a number of these projects.\\nPrior to joining Seattle University, I worked in the technology industry for 30 years primarily in M&A, consulting and IT.',\n",
       "  'joined': 2010,\n",
       "  '_version_': 1689618743027564544,\n",
       "  'handle': 'wong-jason'}]"
      ]
     },
     "execution_count": 8,
     "metadata": {},
     "output_type": "execute_result"
    }
   ],
   "source": [
    "list(solr.search('joined:[2010 TO *]'))"
   ]
  },
  {
   "cell_type": "code",
   "execution_count": 9,
   "metadata": {},
   "outputs": [
    {
     "data": {
      "text/plain": [
       "[{'name': 'Steven Hanks, Ph.D.',\n",
       "  'email': 'hankssteven@seattleu.edu',\n",
       "  'bio': '\\xa0\\nTeaching interests:\\n\\nData science\\nArtificial intelligence\\nSoftware design\\nText and natural language processing, and search\\n\\nResearch interests:\\n\\nApplication of data-science methodologiesConnecting machine learning and AI – how ML algorithms can learn representations useful for “general commonsense intelligence” (whatever that means)\\xa0\\n',\n",
       "  'joined': 2008,\n",
       "  '_version_': 1689618743007641600,\n",
       "  'handle': 'hanks-steven'}]"
      ]
     },
     "execution_count": 9,
     "metadata": {},
     "output_type": "execute_result"
    }
   ],
   "source": [
    "list(solr.search('email:\"hankssteven\"'))"
   ]
  },
  {
   "cell_type": "code",
   "execution_count": 11,
   "metadata": {},
   "outputs": [
    {
     "data": {
      "text/plain": [
       "[]"
      ]
     },
     "execution_count": 11,
     "metadata": {},
     "output_type": "execute_result"
    }
   ],
   "source": [
    "list(solr.search('email:\"hanks\"'))"
   ]
  },
  {
   "cell_type": "code",
   "execution_count": 10,
   "metadata": {},
   "outputs": [
    {
     "data": {
      "text/plain": [
       "[]"
      ]
     },
     "execution_count": 10,
     "metadata": {},
     "output_type": "execute_result"
    }
   ],
   "source": [
    "list(solr.search('handle:\"hanks\"'))"
   ]
  },
  {
   "cell_type": "code",
   "execution_count": 12,
   "metadata": {},
   "outputs": [
    {
     "data": {
      "text/plain": [
       "[{'name': 'Steven Hanks, Ph.D.',\n",
       "  'email': 'hankssteven@seattleu.edu',\n",
       "  'bio': '\\xa0\\nTeaching interests:\\n\\nData science\\nArtificial intelligence\\nSoftware design\\nText and natural language processing, and search\\n\\nResearch interests:\\n\\nApplication of data-science methodologiesConnecting machine learning and AI – how ML algorithms can learn representations useful for “general commonsense intelligence” (whatever that means)\\xa0\\n',\n",
       "  'joined': 2008,\n",
       "  '_version_': 1689618743007641600,\n",
       "  'handle': 'hanks-steven'}]"
      ]
     },
     "execution_count": 12,
     "metadata": {},
     "output_type": "execute_result"
    }
   ],
   "source": [
    "list(solr.search('handle:\"hanks-steven\"'))"
   ]
  },
  {
   "cell_type": "markdown",
   "metadata": {},
   "source": [
    "### Other parameters for the query\n",
    "* df -- default search field\n",
    "* fl -- fields to return\n",
    "* start and rows\n",
    "* sort"
   ]
  },
  {
   "cell_type": "code",
   "execution_count": 13,
   "metadata": {},
   "outputs": [],
   "source": [
    "# Here's an abstraction that will allow us to mess around with query params\n",
    "import requests\n",
    "\n",
    "def solr_select(params, port=\"8983\", collection=\"sufaculty\"):\n",
    "    param_arg = \"&\".join(list(map(lambda p: f\"{p[0]}={p[1]}\", list(params.items()))))\n",
    "    query_string = f\"http://localhost:{port}/solr/{collection}/select?\"\n",
    "    rs = query_string + param_arg\n",
    "    print(rs)\n",
    "    r = requests.get(rs)\n",
    "    if (r.status_code == 200):\n",
    "        return r.json()['response']\n",
    "    else:\n",
    "        raise Exception(f\"Request Error: {r.status_code}\")\n"
   ]
  },
  {
   "cell_type": "code",
   "execution_count": 14,
   "metadata": {},
   "outputs": [
    {
     "name": "stdout",
     "output_type": "stream",
     "text": [
      "http://localhost:8983/solr/sufaculty/select?df=bio&q=computer&rows=5&start=0&sort=joined asc&fl=name,email,joined\n"
     ]
    },
    {
     "data": {
      "text/plain": [
       "{'numFound': 12,\n",
       " 'start': 0,\n",
       " 'docs': [{'name': 'Adair Dingle, Ph.D.',\n",
       "   'email': 'dingle@seattleu.edu',\n",
       "   'joined': 1996},\n",
       "  {'name': 'Kevin Lundeen\\n',\n",
       "   'email': 'lundeenk@seattleu.edu',\n",
       "   'joined': 1997},\n",
       "  {'name': 'Hidy Kong, Ph.D.', 'email': 'hkong@seattleu.edu', 'joined': 1998},\n",
       "  {'name': 'Yingwu Zhu, Ph.D.', 'email': 'zhuy@seattleu.edu', 'joined': 1999},\n",
       "  {'name': 'Aditya Mishra, Ph.D.',\n",
       "   'email': 'mishraa@seattleu.edu',\n",
       "   'joined': 2000}]}"
      ]
     },
     "execution_count": 14,
     "metadata": {},
     "output_type": "execute_result"
    }
   ],
   "source": [
    "# Example with additional parameters:  search all listings on \n",
    "\n",
    "solr_select({\"df\": \"bio\", \"q\": \"computer\", \"rows\":5, \"start\":0, \"sort\": \"joined asc\", \"fl\": \"name,email,joined\"})"
   ]
  },
  {
   "cell_type": "code",
   "execution_count": null,
   "metadata": {},
   "outputs": [],
   "source": []
  },
  {
   "cell_type": "markdown",
   "metadata": {},
   "source": [
    "### A Few More Details on SOLR Search and Response\n",
    "\n",
    "<pre>\n",
    "request  ->  SOLR service -> dispatch to core -> Search Handler -> Query Parser -> Lookup\n",
    "  -> Response Handler\n",
    "</pre>\n",
    "\n",
    "Response can contain\n",
    "* Results (fields of documents)\n",
    "* Facets -- for example, for tweeters, facet on tweet count.  For products, facet on product categories\n",
    "* More like this -- documents similar to the search results (not necessarily based on the query terms)\n",
    "* Highlight -- choose snippets of documents with matching terms\n",
    "* Stats -- statistics on numeric fields\n",
    "* Debug -- parsed query string plus info on how documents were scored\n",
    "\n",
    "#### Query Parsers\n",
    "Lucene query parser vs dismax vs edismax.  \n",
    "\n",
    ">In general, the DisMax query parser’s interface is more like that of Google than the interface of the 'standard' Solr request handler. This similarity makes DisMax the appropriate query parser for many consumer applications. It accepts a simple syntax, and it rarely produces error messages.\n",
    "\n",
    "> The DisMax query parser supports an extremely simplified subset of the Lucene QueryParser syntax. \n",
    "\n",
    "#### Filters vs Queries\n",
    "\n",
    "* Filter (fq):  reduce number of \"qualifying\" documents without ranking\n",
    "* Query (q): both reduce and rank\n",
    "\n",
    "##### General form is \n",
    "<pre>  fieldName:queryString </pre>\n",
    "\n",
    "##### Decorations\n",
    "*  +solr\n",
    "*  apache AND solr\n",
    "*  apache OR solr\n",
    "* \"apache solr\"   -- but remember stopword removal and stemming\n",
    "* \"apache solr\"~3\n",
    "* solr AND NOT (panel OR electricity)\n",
    "* number: \\[0 TO *\\]\n",
    "* string: \\[ape TO apple\\]\n",
    "* date: \\[ * TO NOW-1 DAY\\]\n",
    "* hel* w?rld\n",
    "\n",
    "##### Boosts\n",
    "* apache^10 solr^100\n",
    "\n",
    "### Responses\n",
    "* What document fields\n",
    "* Dynamic:  relevancy score\n",
    "* Pagination\n",
    "\n"
   ]
  },
  {
   "cell_type": "markdown",
   "metadata": {},
   "source": [
    "### Larger example\n",
    "\n",
    "1. OR keyword search on keywords the name field\n",
    "2. Optional phrase search on the bio\n",
    "3. Optional threshold on year joined\n",
    "4. Return name and email address only\n",
    "\n"
   ]
  },
  {
   "cell_type": "code",
   "execution_count": null,
   "metadata": {},
   "outputs": [],
   "source": [
    "def standard_query(name_keywords, bio_phrase='', joined_threshold=''):\n",
    "    qvalue =  \"(\" + \" OR \".join(name_keywords.split()) + \")\"\n",
    "    if (len(bio_phrase) > 0 ):\n",
    "        qvalue += \" AND \\\"\" + bio_phrase + \"\\\"\"\n",
    "    if (len(joined_threshold) > 0):\n",
    "        qvalue += f\" AND joined:[{joined_threshold} TO *]\"\n",
    "    return {\"q\": qvalue, \"fl\": \"name,joined\"}\n",
    "\n"
   ]
  },
  {
   "cell_type": "code",
   "execution_count": null,
   "metadata": {},
   "outputs": [],
   "source": [
    "standard_query(\"richard adair\", \"computer science\", \"100\")"
   ]
  },
  {
   "cell_type": "code",
   "execution_count": null,
   "metadata": {},
   "outputs": [],
   "source": [
    "p = standard_query(\"richard adair\", \"computer science\", \"100\")\n",
    "solr_select(p)"
   ]
  },
  {
   "cell_type": "code",
   "execution_count": null,
   "metadata": {},
   "outputs": [],
   "source": []
  }
 ],
 "metadata": {
  "kernelspec": {
   "display_name": "Python 3",
   "language": "python",
   "name": "python3"
  },
  "language_info": {
   "codemirror_mode": {
    "name": "ipython",
    "version": 3
   },
   "file_extension": ".py",
   "mimetype": "text/x-python",
   "name": "python",
   "nbconvert_exporter": "python",
   "pygments_lexer": "ipython3",
   "version": "3.7.0"
  }
 },
 "nbformat": 4,
 "nbformat_minor": 2
}
